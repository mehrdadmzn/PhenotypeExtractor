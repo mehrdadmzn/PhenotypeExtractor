{
 "cells": [
  {
   "cell_type": "code",
   "source": [
    "import pyspark.sql.functions as F\n",
    "import pyspark.sql.types as T"
   ],
   "metadata": {
    "application/vnd.databricks.v1+cell": {
     "showTitle": false,
     "cellMetadata": {},
     "nuid": "ec91793b-d4ff-404d-80c8-f710fb1f864f",
     "inputWidgets": {},
     "title": ""
    }
   },
   "outputs": [
    {
     "output_type": "display_data",
     "metadata": {
      "application/vnd.databricks.v1+output": {
       "datasetInfos": [],
       "data": "<div class=\"ansiout\"></div>",
       "removedWidgets": [],
       "addedWidgets": {},
       "metadata": {},
       "type": "html",
       "arguments": {}
      }
     },
     "data": {
      "text/html": [
       "<style scoped>\n  .ansiout {\n    display: block;\n    unicode-bidi: embed;\n    white-space: pre-wrap;\n    word-wrap: break-word;\n    word-break: break-all;\n    font-family: \"Source Code Pro\", \"Menlo\", monospace;;\n    font-size: 13px;\n    color: #555;\n    margin-left: 4px;\n    line-height: 19px;\n  }\n</style>\n<div class=\"ansiout\"></div>"
      ]
     }
    }
   ],
   "execution_count": 0
  },
  {
   "cell_type": "code",
   "source": [
    "def load_csv_table(table_name):\n",
    "  # File location and type\n",
    "  file_location = f'''/FileStore/tables/Fake_data/{table_name}'''\n",
    "  # CSV options\n",
    "  infer_schema = \"false\"\n",
    "  first_row_is_header = \"true\"\n",
    "  delimiter = \",\"\n",
    "  # The applied options are for CSV files. For other file types, these will be ignored.\n",
    "  df = spark.read.format(file_type) \\\n",
    "  .option(\"inferSchema\", infer_schema) \\\n",
    "  .option(\"header\", True) \\\n",
    "  .option(\"sep\", delimiter) \\\n",
    "  .load(file_location)\n",
    "  return(df)"
   ],
   "metadata": {
    "application/vnd.databricks.v1+cell": {
     "showTitle": false,
     "cellMetadata": {},
     "nuid": "eef0a964-f27b-434d-b90a-1a3ef2cdc857",
     "inputWidgets": {},
     "title": ""
    }
   },
   "outputs": [
    {
     "output_type": "display_data",
     "metadata": {
      "application/vnd.databricks.v1+output": {
       "datasetInfos": [],
       "data": "<div class=\"ansiout\"></div>",
       "removedWidgets": [],
       "addedWidgets": {},
       "metadata": {},
       "type": "html",
       "arguments": {}
      }
     },
     "data": {
      "text/html": [
       "<style scoped>\n  .ansiout {\n    display: block;\n    unicode-bidi: embed;\n    white-space: pre-wrap;\n    word-wrap: break-word;\n    word-break: break-all;\n    font-family: \"Source Code Pro\", \"Menlo\", monospace;;\n    font-size: 13px;\n    color: #555;\n    margin-left: 4px;\n    line-height: 19px;\n  }\n</style>\n<div class=\"ansiout\"></div>"
      ]
     }
    }
   ],
   "execution_count": 0
  },
  {
   "cell_type": "code",
   "source": [
    "skinny_df = load_csv_table(\"skinny.csv\")\n",
    "display(skinny_df)\n"
   ],
   "metadata": {
    "application/vnd.databricks.v1+cell": {
     "showTitle": false,
     "cellMetadata": {},
     "nuid": "52c8c13e-b6e2-4a76-a20c-b7158be72309",
     "inputWidgets": {},
     "title": ""
    }
   },
   "outputs": [
    {
     "output_type": "display_data",
     "metadata": {
      "application/vnd.databricks.v1+output": {
       "overflow": false,
       "datasetInfos": [
        {
         "name": "skinny_df",
         "typeStr": "pyspark.sql.dataframe.DataFrame",
         "schema": {
          "fields": [
           {
            "metadata": {},
            "name": "NHS_NUMBER_DEID",
            "nullable": true,
            "type": "string"
           },
           {
            "metadata": {},
            "name": "DATE_OF_BIRTH",
            "nullable": true,
            "type": "string"
           },
           {
            "metadata": {},
            "name": "SEX",
            "nullable": true,
            "type": "string"
           },
           {
            "metadata": {},
            "name": "DATE_OF_DEATH",
            "nullable": true,
            "type": "string"
           }
          ],
          "type": "struct"
         },
         "tableIdentifier": null
        }
       ],
       "data": [
        [
         "cat_1",
         "2010-06-12",
         "1",
         null
        ],
        [
         "cat_2",
         "2012-06-05",
         "2",
         null
        ],
        [
         "cat_3",
         "2008-01-12",
         "1",
         "2022-02-03"
        ],
        [
         "cat_4",
         "2009-01-13",
         "2",
         null
        ]
       ],
       "plotOptions": {
        "displayType": "table",
        "customPlotOptions": {},
        "pivotColumns": null,
        "pivotAggregation": null,
        "xColumns": null,
        "yColumns": null
       },
       "columnCustomDisplayInfos": {},
       "aggType": "",
       "isJsonSchema": true,
       "removedWidgets": [],
       "aggSchema": [],
       "schema": [
        {
         "name": "NHS_NUMBER_DEID",
         "type": "\"string\"",
         "metadata": "{}"
        },
        {
         "name": "DATE_OF_BIRTH",
         "type": "\"string\"",
         "metadata": "{}"
        },
        {
         "name": "SEX",
         "type": "\"string\"",
         "metadata": "{}"
        },
        {
         "name": "DATE_OF_DEATH",
         "type": "\"string\"",
         "metadata": "{}"
        }
       ],
       "aggError": "",
       "aggData": [],
       "addedWidgets": {},
       "metadata": {},
       "dbfsResultPath": null,
       "type": "table",
       "aggOverflow": false,
       "aggSeriesLimitReached": false,
       "arguments": {}
      }
     },
     "data": {
      "text/html": [
       "<style scoped>\n  .table-result-container {\n    max-height: 300px;\n    overflow: auto;\n  }\n  table, th, td {\n    border: 1px solid black;\n    border-collapse: collapse;\n  }\n  th, td {\n    padding: 5px;\n  }\n  th {\n    text-align: left;\n  }\n</style><div class='table-result-container'><table class='table-result'><thead style='background-color: white'><tr><th>NHS_NUMBER_DEID</th><th>DATE_OF_BIRTH</th><th>SEX</th><th>DATE_OF_DEATH</th></tr></thead><tbody><tr><td>cat_1</td><td>2010-06-12</td><td>1</td><td>null</td></tr><tr><td>cat_2</td><td>2012-06-05</td><td>2</td><td>null</td></tr><tr><td>cat_3</td><td>2008-01-12</td><td>1</td><td>2022-02-03</td></tr><tr><td>cat_4</td><td>2009-01-13</td><td>2</td><td>null</td></tr></tbody></table></div>"
      ]
     }
    }
   ],
   "execution_count": 0
  },
  {
   "cell_type": "code",
   "source": [
    "gdppr_df = load_csv_table(\"GDPPR.csv\")\n",
    "display(gdppr_df)"
   ],
   "metadata": {
    "application/vnd.databricks.v1+cell": {
     "showTitle": false,
     "cellMetadata": {},
     "nuid": "72e59652-4761-4e81-b45d-a59b87bc63d6",
     "inputWidgets": {},
     "title": ""
    }
   },
   "outputs": [
    {
     "output_type": "display_data",
     "metadata": {
      "application/vnd.databricks.v1+output": {
       "overflow": false,
       "datasetInfos": [
        {
         "name": "gdppr_df",
         "typeStr": "pyspark.sql.dataframe.DataFrame",
         "schema": {
          "fields": [
           {
            "metadata": {},
            "name": "NHS_NUMBER_DEID",
            "nullable": true,
            "type": "string"
           },
           {
            "metadata": {},
            "name": "DATE",
            "nullable": true,
            "type": "string"
           },
           {
            "metadata": {},
            "name": "CODE",
            "nullable": true,
            "type": "string"
           },
           {
            "metadata": {},
            "name": "Details",
            "nullable": true,
            "type": "string"
           }
          ],
          "type": "struct"
         },
         "tableIdentifier": null
        }
       ],
       "data": [
        [
         "cat_1",
         "2020-06-12",
         "11530004",
         "brittle diabetes"
        ],
        [
         "cat_1",
         "2021-07-11",
         "170747006",
         "Diabetic on insulin"
        ],
        [
         "cat_1",
         "2020-05-13",
         "472969004",
         "History of diabetes"
        ],
        [
         "cat_2",
         "2019-03-11",
         "421750000",
         "Ketoacidosis in diabetes"
        ],
        [
         "cat_2",
         null,
         "193489006",
         "Diabetec iritis, Null dates"
        ],
        [
         "cat_3",
         "2021-01-12",
         "84114007",
         "Hf"
        ],
        [
         "cat_3",
         "2021-02-11",
         "1240381000000100",
         "covid diagnosis"
        ],
        [
         "cat_1",
         "2020-01-12",
         "1321541000000100",
         "covid diagnosis"
        ],
        [
         "cat_4",
         "2017-01-13",
         "1321761000000103\t",
         "Covid diagnosis, before pandemic"
        ],
        [
         "cat_1",
         "2028-03-08",
         "1321761000000103\t",
         "Covid diagnosis, after pandemic"
        ]
       ],
       "plotOptions": {
        "displayType": "table",
        "customPlotOptions": {},
        "pivotColumns": null,
        "pivotAggregation": null,
        "xColumns": null,
        "yColumns": null
       },
       "columnCustomDisplayInfos": {},
       "aggType": "",
       "isJsonSchema": true,
       "removedWidgets": [],
       "aggSchema": [],
       "schema": [
        {
         "name": "NHS_NUMBER_DEID",
         "type": "\"string\"",
         "metadata": "{}"
        },
        {
         "name": "DATE",
         "type": "\"string\"",
         "metadata": "{}"
        },
        {
         "name": "CODE",
         "type": "\"string\"",
         "metadata": "{}"
        },
        {
         "name": "Details",
         "type": "\"string\"",
         "metadata": "{}"
        }
       ],
       "aggError": "",
       "aggData": [],
       "addedWidgets": {},
       "metadata": {},
       "dbfsResultPath": null,
       "type": "table",
       "aggOverflow": false,
       "aggSeriesLimitReached": false,
       "arguments": {}
      }
     },
     "data": {
      "text/html": [
       "<style scoped>\n  .table-result-container {\n    max-height: 300px;\n    overflow: auto;\n  }\n  table, th, td {\n    border: 1px solid black;\n    border-collapse: collapse;\n  }\n  th, td {\n    padding: 5px;\n  }\n  th {\n    text-align: left;\n  }\n</style><div class='table-result-container'><table class='table-result'><thead style='background-color: white'><tr><th>NHS_NUMBER_DEID</th><th>DATE</th><th>CODE</th><th>Details</th></tr></thead><tbody><tr><td>cat_1</td><td>2020-06-12</td><td>11530004</td><td>brittle diabetes</td></tr><tr><td>cat_1</td><td>2021-07-11</td><td>170747006</td><td>Diabetic on insulin</td></tr><tr><td>cat_1</td><td>2020-05-13</td><td>472969004</td><td>History of diabetes</td></tr><tr><td>cat_2</td><td>2019-03-11</td><td>421750000</td><td>Ketoacidosis in diabetes</td></tr><tr><td>cat_2</td><td>null</td><td>193489006</td><td>Diabetec iritis, Null dates</td></tr><tr><td>cat_3</td><td>2021-01-12</td><td>84114007</td><td>Hf</td></tr><tr><td>cat_3</td><td>2021-02-11</td><td>1240381000000100</td><td>covid diagnosis</td></tr><tr><td>cat_1</td><td>2020-01-12</td><td>1321541000000100</td><td>covid diagnosis</td></tr><tr><td>cat_4</td><td>2017-01-13</td><td>1321761000000103\t</td><td>Covid diagnosis, before pandemic</td></tr><tr><td>cat_1</td><td>2028-03-08</td><td>1321761000000103\t</td><td>Covid diagnosis, after pandemic</td></tr></tbody></table></div>"
      ]
     }
    }
   ],
   "execution_count": 0
  },
  {
   "cell_type": "code",
   "source": [
    "sgss_df = load_csv_table(\"sgss.csv\")\n",
    "display(sgss_df)"
   ],
   "metadata": {
    "application/vnd.databricks.v1+cell": {
     "showTitle": false,
     "cellMetadata": {},
     "nuid": "65204baa-3de8-48d2-9d76-06af4090d57e",
     "inputWidgets": {},
     "title": ""
    }
   },
   "outputs": [
    {
     "output_type": "display_data",
     "metadata": {
      "application/vnd.databricks.v1+output": {
       "overflow": false,
       "datasetInfos": [
        {
         "name": "sgss_df",
         "typeStr": "pyspark.sql.dataframe.DataFrame",
         "schema": {
          "fields": [
           {
            "metadata": {},
            "name": "PERSON_ID_DEID",
            "nullable": true,
            "type": "string"
           },
           {
            "metadata": {},
            "name": "Specimen_Date",
            "nullable": true,
            "type": "string"
           },
           {
            "metadata": {},
            "name": "Details",
            "nullable": true,
            "type": "string"
           },
           {
            "metadata": {},
            "name": "Lab_Report_Date",
            "nullable": true,
            "type": "string"
           }
          ],
          "type": "struct"
         },
         "tableIdentifier": null
        }
       ],
       "data": [
        [
         "cat_1",
         "2020-06-12",
         "Both dates are valid",
         "2020-07-11"
        ],
        [
         "cat_1",
         "2022-02-03",
         "Second infections",
         "2022-01-04"
        ],
        [
         "cat_2",
         "2019-03-11",
         "secondary date is invalid",
         "1980-01-01"
        ],
        [
         "cat_2",
         null,
         "both are null",
         null
        ],
        [
         "cat_3",
         "1970-01-01",
         "first date is invalid, second is null",
         null
        ],
        [
         "cat_3",
         "1930-01-01",
         "first is invalid",
         "2021-02-03"
        ],
        [
         "cat_1",
         "1930-01-01",
         "both are invalid",
         "1930-01-01"
        ],
        [
         "cat_4",
         "2021-10-12",
         "Both are the same",
         "2021-10-12"
        ],
        [
         "cat_1",
         "2028-03-08",
         "first is invalid",
         "2021-02-03"
        ],
        [
         null,
         "2021-10-12",
         "Id is null",
         "2021-10-12"
        ],
        [
         "cat_4",
         null,
         "First date is null",
         "2021-11-03"
        ],
        [
         "cat_2",
         "2021-02-11",
         null,
         null
        ],
        [
         "cat_1",
         "2022-02-03",
         "repetitive date",
         null
        ]
       ],
       "plotOptions": {
        "displayType": "table",
        "customPlotOptions": {},
        "pivotColumns": null,
        "pivotAggregation": null,
        "xColumns": null,
        "yColumns": null
       },
       "columnCustomDisplayInfos": {},
       "aggType": "",
       "isJsonSchema": true,
       "removedWidgets": [],
       "aggSchema": [],
       "schema": [
        {
         "name": "PERSON_ID_DEID",
         "type": "\"string\"",
         "metadata": "{}"
        },
        {
         "name": "Specimen_Date",
         "type": "\"string\"",
         "metadata": "{}"
        },
        {
         "name": "Details",
         "type": "\"string\"",
         "metadata": "{}"
        },
        {
         "name": "Lab_Report_Date",
         "type": "\"string\"",
         "metadata": "{}"
        }
       ],
       "aggError": "",
       "aggData": [],
       "addedWidgets": {},
       "metadata": {},
       "dbfsResultPath": null,
       "type": "table",
       "aggOverflow": false,
       "aggSeriesLimitReached": false,
       "arguments": {}
      }
     },
     "data": {
      "text/html": [
       "<style scoped>\n  .table-result-container {\n    max-height: 300px;\n    overflow: auto;\n  }\n  table, th, td {\n    border: 1px solid black;\n    border-collapse: collapse;\n  }\n  th, td {\n    padding: 5px;\n  }\n  th {\n    text-align: left;\n  }\n</style><div class='table-result-container'><table class='table-result'><thead style='background-color: white'><tr><th>PERSON_ID_DEID</th><th>Specimen_Date</th><th>Details</th><th>Lab_Report_Date</th></tr></thead><tbody><tr><td>cat_1</td><td>2020-06-12</td><td>Both dates are valid</td><td>2020-07-11</td></tr><tr><td>cat_1</td><td>2022-02-03</td><td>Second infections</td><td>2022-01-04</td></tr><tr><td>cat_2</td><td>2019-03-11</td><td>secondary date is invalid</td><td>1980-01-01</td></tr><tr><td>cat_2</td><td>null</td><td>both are null</td><td>null</td></tr><tr><td>cat_3</td><td>1970-01-01</td><td>first date is invalid, second is null</td><td>null</td></tr><tr><td>cat_3</td><td>1930-01-01</td><td>first is invalid</td><td>2021-02-03</td></tr><tr><td>cat_1</td><td>1930-01-01</td><td>both are invalid</td><td>1930-01-01</td></tr><tr><td>cat_4</td><td>2021-10-12</td><td>Both are the same</td><td>2021-10-12</td></tr><tr><td>cat_1</td><td>2028-03-08</td><td>first is invalid</td><td>2021-02-03</td></tr><tr><td>null</td><td>2021-10-12</td><td>Id is null</td><td>2021-10-12</td></tr><tr><td>cat_4</td><td>null</td><td>First date is null</td><td>2021-11-03</td></tr><tr><td>cat_2</td><td>2021-02-11</td><td>null</td><td>null</td></tr><tr><td>cat_1</td><td>2022-02-03</td><td>repetitive date</td><td>null</td></tr></tbody></table></div>"
      ]
     }
    }
   ],
   "execution_count": 0
  },
  {
   "cell_type": "code",
   "source": [],
   "metadata": {
    "application/vnd.databricks.v1+cell": {
     "showTitle": false,
     "cellMetadata": {},
     "nuid": "da508fb4-e300-448d-887c-945c5a7e5e80",
     "inputWidgets": {},
     "title": ""
    }
   },
   "outputs": [],
   "execution_count": 0
  }
 ],
 "metadata": {
  "application/vnd.databricks.v1+notebook": {
   "notebookName": "Load_DFs",
   "dashboards": [],
   "notebookMetadata": {
    "pythonIndentUnit": 2
   },
   "language": "python",
   "widgets": {},
   "notebookOrigID": 1575244492406000
  }
 },
 "nbformat": 4,
 "nbformat_minor": 0
}
