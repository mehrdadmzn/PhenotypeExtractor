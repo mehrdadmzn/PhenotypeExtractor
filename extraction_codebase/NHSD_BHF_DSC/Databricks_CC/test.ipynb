{
 "cells": [
  {
   "cell_type": "code",
   "execution_count": 2,
   "outputs": [
    {
     "ename": "SyntaxError",
     "evalue": "invalid syntax (414248416.py, line 8)",
     "output_type": "error",
     "traceback": [
      "\u001B[0;36m  Cell \u001B[0;32mIn [2], line 8\u001B[0;36m\u001B[0m\n\u001B[0;31m    from PhenoPackages.NHSDPhenoPpackage.phenotype_extractor_pyspark.local_only.local_simulated_functions import\u001B[0m\n\u001B[0m                                                                                                                ^\u001B[0m\n\u001B[0;31mSyntaxError\u001B[0m\u001B[0;31m:\u001B[0m invalid syntax\n"
     ]
    }
   ],
   "source": [
    "\n",
    "import datetime\n",
    "\n",
    "# findspark.init()\n",
    "\n",
    "import pyspark\n",
    "import pyspark.sql.functions as F\n",
    "from pyspark.sql import SparkSession\n",
    "from PhenoPackages.NHSDPhenoPpackage.phenotype_extractor_pyspark.local_only.local_simulated_functions import\n",
    "    show_all_dfs\n",
    "from PhenoPackages.NHSDPhenoPpackage.phenotype_extractor_pyspark.DateBasedPhenoFunctions import event_pheno_extractor\n",
    "\n",
    "# df = SparkSession.read.format(\"csv\").load(\"Fake_data/NHS_BHF_DSC/GDPPR.csv\")\n",
    "#sc = pyspark.SparkContext()\n",
    "#sq = pyspark.SQLContext(sc)\n",
    "spark = SparkSession.builder.master(\"local[1]\").appName(\"NHS_TRE_Simulation\").getOrCreate()\n",
    "# Load skinny table\n",
    "skinny_df = spark.read.format(\"csv\").option(\"header\", \"true\").load(\"../../Fake_data/NHS_BHF_DSC/skinny.csv\")\n",
    "\n",
    "# Load gdppr\n",
    "gdppr_df = spark.read.format(\"csv\").option(\"header\", \"true\").load(\"../../Fake_data/NHS_BHF_DSC/GDPPR.csv\")\n",
    "\n",
    "# Load sgss\n",
    "sgss_df = spark.read.format(\"csv\").option(\"header\", \"true\").load(\"../../Fake_data/NHS_BHF_DSC/sgss.csv\")\n",
    "\n",
    "# Set dates\n",
    "start_date_str = \"2019-12-01\"  # Start of the pandemic\n",
    "end_date_str = \"2022-08-31\"  # final_production date\n",
    "start_date = datetime.datetime(2019, 12, 1)\n",
    "end_date = datetime.datetime(2022, 8, 31)\n",
    "# %%\n",
    "\n",
    "# Basic covid_df\n",
    "covid_df_1 = skinny_df.select([\"NHS_NUMBER_DEID\"])\n",
    "covid_df_1 = covid_df_1.withColumn(\"start_date\", F.to_date(F.lit(start_date_str))).withColumn(\"end_date\", F.to_date(\n",
    "    F.lit(end_date_str)))\n",
    "covid_df_1 = covid_df_1.withColumn(\"isin_skinny\", F.lit(1))\n",
    "covid_df_1.show()\n",
    "# %%\n",
    "\n",
    "# Params\n",
    "param_yaml = \"\"\"\\\n",
    "sgss:\n",
    "  table_tag: sgss\n",
    "  production_date_str: '2022-08-31'\n",
    "  index_col: PERSON_ID_DEID\n",
    "  evdt_col_raw: Specimen_Date\n",
    "  evdt_col_list:\n",
    "    - Specimen_Date\n",
    "    - Lab_Report_Date\n",
    "  evdt_pheno: sgss_evdt\n",
    "  start_date_qc: \"2019-12-01\"\n",
    "  end_date_qc: \"2022-08-31\"\n",
    "final_table:\n",
    "  table_tag: covid\n",
    "  index_col: NHS_NUMBER_DEID\n",
    "  evdt_pheno: covid_evdt\n",
    "  start_date_qc: \"2019-12-01\"\n",
    "  end_date_qc: \"2022-08-31\"\n",
    "optional_settings:\n",
    "  full_report: yes\n",
    "  spark_cache_midway: yes\n",
    "  impute_multi_col_null_dates: yes\n",
    "  impute_multi_col_invalid_dates: yes\n",
    "  drop_null_ids: yes\n",
    "  drop_remaining_null_dates: yes\n",
    "  drop_remaining_invalid_dates: yes\n",
    "\"\"\"\n",
    "print(sgss_df.dtypes)\n",
    "print(sgss_df.filter(F.col(\"PERSON_ID_DEID\").isNull()).count())\n",
    "\n",
    "# Add SGSS\n",
    "\n",
    "sgss_dfset, sgss_ps = event_pheno_extractor(sgss_df, param_yaml, table_tag=\"sgss\")\n",
    "\n",
    "sgss_dfset.extract_basic_pheno_df()\n",
    "sgss_dfset.pheno_df_basic.show()\n",
    "\n",
    "sgss_dfset.extract_full_pheno_df()\n",
    "sgss_dfset.pheno_df_full.show()\n",
    "print(sgss_dfset.pheno_df_full.collect())\n",
    "show_all_dfs(sgss_dfset)\n",
    "sgss_dfset.explode_array_col(sgss_dfset.pheno_df_full, \"list_distinct\", sgss_dfset.ps.index_col,\n",
    "                             sgss_dfset.ps.evdt_pheno).show()\n",
    "#sgss_dfset.explode_array_col(sgss_dfset.pheno_df_full, \"list_all\", sgss_dfset.ps.index_col).show()\n",
    "\n",
    "print(f'''start_date_qc = {sgss_ps.start_date_qc}''')\n",
    "#print(f'''end_date_qc = {sgss_ps.end_date_qc}''')\n"
   ],
   "metadata": {
    "collapsed": false
   }
  },
  {
   "cell_type": "code",
   "execution_count": null,
   "outputs": [],
   "source": [],
   "metadata": {
    "collapsed": false
   }
  }
 ],
 "metadata": {
  "kernelspec": {
   "display_name": "Python 3",
   "language": "python",
   "name": "python3"
  },
  "language_info": {
   "codemirror_mode": {
    "name": "ipython",
    "version": 2
   },
   "file_extension": ".py",
   "mimetype": "text/x-python",
   "name": "python",
   "nbconvert_exporter": "python",
   "pygments_lexer": "ipython2",
   "version": "2.7.6"
  }
 },
 "nbformat": 4,
 "nbformat_minor": 0
}
