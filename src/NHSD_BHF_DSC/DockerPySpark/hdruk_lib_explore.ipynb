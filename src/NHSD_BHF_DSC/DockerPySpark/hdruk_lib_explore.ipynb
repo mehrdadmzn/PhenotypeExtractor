{
 "cells": [
  {
   "cell_type": "code",
   "execution_count": 1,
   "metadata": {
    "collapsed": true
   },
   "outputs": [],
   "source": [
    "import pandas as pd\n"
   ]
  },
  {
   "cell_type": "code",
   "execution_count": 2,
   "outputs": [],
   "source": [
    "input_file = f'''/Users/mehrdadmizani/PycharmProjects/PE/codelists/hdr_uk_pheno_lib/ischaemic_stroke/phenotype_PH56_ver_112_concepts_20221127T004004.csv'''\n",
    "\n",
    "hdruk_pd = pd.read_csv(input_file)"
   ],
   "metadata": {
    "collapsed": false
   }
  },
  {
   "cell_type": "code",
   "execution_count": 3,
   "outputs": [
    {
     "data": {
      "text/plain": "       code                                        description  coding_system  \\\n0   G63..11                           Infarction - precerebral  Read codes v2   \n1   G63y000  Cerebral infarct due to thrombosis of precereb...  Read codes v2   \n2   G63y100  Cerebral infarction due to embolism of precere...  Read codes v2   \n3   G64..00                        Cerebral arterial occlusion  Read codes v2   \n4   G64..11                    CVA - cerebral artery occlusion  Read codes v2   \n..      ...                                                ...            ...   \n58    I63.4  Cerebral infarction due to embolism of cerebra...    ICD10 codes   \n59    I63.5  Cerebral infarction due to unspecified occlusi...    ICD10 codes   \n60    I63.8                          Other cerebral infarction    ICD10 codes   \n61    I63.9                   Cerebral infarction, unspecified    ICD10 codes   \n62    I69.3                    Sequelae of cerebral infarction    ICD10 codes   \n\n   concept_id  concept_version_id  \\\n0        C837                2813   \n1        C837                2813   \n2        C837                2813   \n3        C837                2813   \n4        C837                2813   \n..        ...                 ...   \n58       C839                2817   \n59       C839                2817   \n60       C839                2817   \n61       C839                2817   \n62       C839                2817   \n\n                                     concept_name phenotype_id  \\\n0                 Ischaemic stroke - Primary care         PH56   \n1                 Ischaemic stroke - Primary care         PH56   \n2                 Ischaemic stroke - Primary care         PH56   \n3                 Ischaemic stroke - Primary care         PH56   \n4                 Ischaemic stroke - Primary care         PH56   \n..                                            ...          ...   \n58  Ischaemic stroke - Secondary care - Diagnoses         PH56   \n59  Ischaemic stroke - Secondary care - Diagnoses         PH56   \n60  Ischaemic stroke - Secondary care - Diagnoses         PH56   \n61  Ischaemic stroke - Secondary care - Diagnoses         PH56   \n62  Ischaemic stroke - Secondary care - Diagnoses         PH56   \n\n    phenotype_version_id    phenotype_name  \n0                    112  Ischaemic stroke  \n1                    112  Ischaemic stroke  \n2                    112  Ischaemic stroke  \n3                    112  Ischaemic stroke  \n4                    112  Ischaemic stroke  \n..                   ...               ...  \n58                   112  Ischaemic stroke  \n59                   112  Ischaemic stroke  \n60                   112  Ischaemic stroke  \n61                   112  Ischaemic stroke  \n62                   112  Ischaemic stroke  \n\n[63 rows x 9 columns]",
      "text/html": "<div>\n<style scoped>\n    .dataframe tbody tr th:only-of-type {\n        vertical-align: middle;\n    }\n\n    .dataframe tbody tr th {\n        vertical-align: top;\n    }\n\n    .dataframe thead th {\n        text-align: right;\n    }\n</style>\n<table border=\"1\" class=\"dataframe\">\n  <thead>\n    <tr style=\"text-align: right;\">\n      <th></th>\n      <th>code</th>\n      <th>description</th>\n      <th>coding_system</th>\n      <th>concept_id</th>\n      <th>concept_version_id</th>\n      <th>concept_name</th>\n      <th>phenotype_id</th>\n      <th>phenotype_version_id</th>\n      <th>phenotype_name</th>\n    </tr>\n  </thead>\n  <tbody>\n    <tr>\n      <th>0</th>\n      <td>G63..11</td>\n      <td>Infarction - precerebral</td>\n      <td>Read codes v2</td>\n      <td>C837</td>\n      <td>2813</td>\n      <td>Ischaemic stroke - Primary care</td>\n      <td>PH56</td>\n      <td>112</td>\n      <td>Ischaemic stroke</td>\n    </tr>\n    <tr>\n      <th>1</th>\n      <td>G63y000</td>\n      <td>Cerebral infarct due to thrombosis of precereb...</td>\n      <td>Read codes v2</td>\n      <td>C837</td>\n      <td>2813</td>\n      <td>Ischaemic stroke - Primary care</td>\n      <td>PH56</td>\n      <td>112</td>\n      <td>Ischaemic stroke</td>\n    </tr>\n    <tr>\n      <th>2</th>\n      <td>G63y100</td>\n      <td>Cerebral infarction due to embolism of precere...</td>\n      <td>Read codes v2</td>\n      <td>C837</td>\n      <td>2813</td>\n      <td>Ischaemic stroke - Primary care</td>\n      <td>PH56</td>\n      <td>112</td>\n      <td>Ischaemic stroke</td>\n    </tr>\n    <tr>\n      <th>3</th>\n      <td>G64..00</td>\n      <td>Cerebral arterial occlusion</td>\n      <td>Read codes v2</td>\n      <td>C837</td>\n      <td>2813</td>\n      <td>Ischaemic stroke - Primary care</td>\n      <td>PH56</td>\n      <td>112</td>\n      <td>Ischaemic stroke</td>\n    </tr>\n    <tr>\n      <th>4</th>\n      <td>G64..11</td>\n      <td>CVA - cerebral artery occlusion</td>\n      <td>Read codes v2</td>\n      <td>C837</td>\n      <td>2813</td>\n      <td>Ischaemic stroke - Primary care</td>\n      <td>PH56</td>\n      <td>112</td>\n      <td>Ischaemic stroke</td>\n    </tr>\n    <tr>\n      <th>...</th>\n      <td>...</td>\n      <td>...</td>\n      <td>...</td>\n      <td>...</td>\n      <td>...</td>\n      <td>...</td>\n      <td>...</td>\n      <td>...</td>\n      <td>...</td>\n    </tr>\n    <tr>\n      <th>58</th>\n      <td>I63.4</td>\n      <td>Cerebral infarction due to embolism of cerebra...</td>\n      <td>ICD10 codes</td>\n      <td>C839</td>\n      <td>2817</td>\n      <td>Ischaemic stroke - Secondary care - Diagnoses</td>\n      <td>PH56</td>\n      <td>112</td>\n      <td>Ischaemic stroke</td>\n    </tr>\n    <tr>\n      <th>59</th>\n      <td>I63.5</td>\n      <td>Cerebral infarction due to unspecified occlusi...</td>\n      <td>ICD10 codes</td>\n      <td>C839</td>\n      <td>2817</td>\n      <td>Ischaemic stroke - Secondary care - Diagnoses</td>\n      <td>PH56</td>\n      <td>112</td>\n      <td>Ischaemic stroke</td>\n    </tr>\n    <tr>\n      <th>60</th>\n      <td>I63.8</td>\n      <td>Other cerebral infarction</td>\n      <td>ICD10 codes</td>\n      <td>C839</td>\n      <td>2817</td>\n      <td>Ischaemic stroke - Secondary care - Diagnoses</td>\n      <td>PH56</td>\n      <td>112</td>\n      <td>Ischaemic stroke</td>\n    </tr>\n    <tr>\n      <th>61</th>\n      <td>I63.9</td>\n      <td>Cerebral infarction, unspecified</td>\n      <td>ICD10 codes</td>\n      <td>C839</td>\n      <td>2817</td>\n      <td>Ischaemic stroke - Secondary care - Diagnoses</td>\n      <td>PH56</td>\n      <td>112</td>\n      <td>Ischaemic stroke</td>\n    </tr>\n    <tr>\n      <th>62</th>\n      <td>I69.3</td>\n      <td>Sequelae of cerebral infarction</td>\n      <td>ICD10 codes</td>\n      <td>C839</td>\n      <td>2817</td>\n      <td>Ischaemic stroke - Secondary care - Diagnoses</td>\n      <td>PH56</td>\n      <td>112</td>\n      <td>Ischaemic stroke</td>\n    </tr>\n  </tbody>\n</table>\n<p>63 rows × 9 columns</p>\n</div>"
     },
     "execution_count": 3,
     "metadata": {},
     "output_type": "execute_result"
    }
   ],
   "source": [
    "hdruk_pd"
   ],
   "metadata": {
    "collapsed": false
   }
  },
  {
   "cell_type": "code",
   "execution_count": 4,
   "outputs": [
    {
     "data": {
      "text/plain": "     code                                        description coding_system  \\\n54  I63.0  Cerebral infarction due to thrombosis of prece...   ICD10 codes   \n55  I63.1  Cerebral infarction due to embolism of precere...   ICD10 codes   \n56  I63.2  Cerebral infarction due to unspecified occlusi...   ICD10 codes   \n57  I63.3  Cerebral infarction due to thrombosis of cereb...   ICD10 codes   \n58  I63.4  Cerebral infarction due to embolism of cerebra...   ICD10 codes   \n59  I63.5  Cerebral infarction due to unspecified occlusi...   ICD10 codes   \n60  I63.8                          Other cerebral infarction   ICD10 codes   \n61  I63.9                   Cerebral infarction, unspecified   ICD10 codes   \n62  I69.3                    Sequelae of cerebral infarction   ICD10 codes   \n\n   concept_id  concept_version_id  \\\n54       C839                2817   \n55       C839                2817   \n56       C839                2817   \n57       C839                2817   \n58       C839                2817   \n59       C839                2817   \n60       C839                2817   \n61       C839                2817   \n62       C839                2817   \n\n                                     concept_name phenotype_id  \\\n54  Ischaemic stroke - Secondary care - Diagnoses         PH56   \n55  Ischaemic stroke - Secondary care - Diagnoses         PH56   \n56  Ischaemic stroke - Secondary care - Diagnoses         PH56   \n57  Ischaemic stroke - Secondary care - Diagnoses         PH56   \n58  Ischaemic stroke - Secondary care - Diagnoses         PH56   \n59  Ischaemic stroke - Secondary care - Diagnoses         PH56   \n60  Ischaemic stroke - Secondary care - Diagnoses         PH56   \n61  Ischaemic stroke - Secondary care - Diagnoses         PH56   \n62  Ischaemic stroke - Secondary care - Diagnoses         PH56   \n\n    phenotype_version_id    phenotype_name  \n54                   112  Ischaemic stroke  \n55                   112  Ischaemic stroke  \n56                   112  Ischaemic stroke  \n57                   112  Ischaemic stroke  \n58                   112  Ischaemic stroke  \n59                   112  Ischaemic stroke  \n60                   112  Ischaemic stroke  \n61                   112  Ischaemic stroke  \n62                   112  Ischaemic stroke  ",
      "text/html": "<div>\n<style scoped>\n    .dataframe tbody tr th:only-of-type {\n        vertical-align: middle;\n    }\n\n    .dataframe tbody tr th {\n        vertical-align: top;\n    }\n\n    .dataframe thead th {\n        text-align: right;\n    }\n</style>\n<table border=\"1\" class=\"dataframe\">\n  <thead>\n    <tr style=\"text-align: right;\">\n      <th></th>\n      <th>code</th>\n      <th>description</th>\n      <th>coding_system</th>\n      <th>concept_id</th>\n      <th>concept_version_id</th>\n      <th>concept_name</th>\n      <th>phenotype_id</th>\n      <th>phenotype_version_id</th>\n      <th>phenotype_name</th>\n    </tr>\n  </thead>\n  <tbody>\n    <tr>\n      <th>54</th>\n      <td>I63.0</td>\n      <td>Cerebral infarction due to thrombosis of prece...</td>\n      <td>ICD10 codes</td>\n      <td>C839</td>\n      <td>2817</td>\n      <td>Ischaemic stroke - Secondary care - Diagnoses</td>\n      <td>PH56</td>\n      <td>112</td>\n      <td>Ischaemic stroke</td>\n    </tr>\n    <tr>\n      <th>55</th>\n      <td>I63.1</td>\n      <td>Cerebral infarction due to embolism of precere...</td>\n      <td>ICD10 codes</td>\n      <td>C839</td>\n      <td>2817</td>\n      <td>Ischaemic stroke - Secondary care - Diagnoses</td>\n      <td>PH56</td>\n      <td>112</td>\n      <td>Ischaemic stroke</td>\n    </tr>\n    <tr>\n      <th>56</th>\n      <td>I63.2</td>\n      <td>Cerebral infarction due to unspecified occlusi...</td>\n      <td>ICD10 codes</td>\n      <td>C839</td>\n      <td>2817</td>\n      <td>Ischaemic stroke - Secondary care - Diagnoses</td>\n      <td>PH56</td>\n      <td>112</td>\n      <td>Ischaemic stroke</td>\n    </tr>\n    <tr>\n      <th>57</th>\n      <td>I63.3</td>\n      <td>Cerebral infarction due to thrombosis of cereb...</td>\n      <td>ICD10 codes</td>\n      <td>C839</td>\n      <td>2817</td>\n      <td>Ischaemic stroke - Secondary care - Diagnoses</td>\n      <td>PH56</td>\n      <td>112</td>\n      <td>Ischaemic stroke</td>\n    </tr>\n    <tr>\n      <th>58</th>\n      <td>I63.4</td>\n      <td>Cerebral infarction due to embolism of cerebra...</td>\n      <td>ICD10 codes</td>\n      <td>C839</td>\n      <td>2817</td>\n      <td>Ischaemic stroke - Secondary care - Diagnoses</td>\n      <td>PH56</td>\n      <td>112</td>\n      <td>Ischaemic stroke</td>\n    </tr>\n    <tr>\n      <th>59</th>\n      <td>I63.5</td>\n      <td>Cerebral infarction due to unspecified occlusi...</td>\n      <td>ICD10 codes</td>\n      <td>C839</td>\n      <td>2817</td>\n      <td>Ischaemic stroke - Secondary care - Diagnoses</td>\n      <td>PH56</td>\n      <td>112</td>\n      <td>Ischaemic stroke</td>\n    </tr>\n    <tr>\n      <th>60</th>\n      <td>I63.8</td>\n      <td>Other cerebral infarction</td>\n      <td>ICD10 codes</td>\n      <td>C839</td>\n      <td>2817</td>\n      <td>Ischaemic stroke - Secondary care - Diagnoses</td>\n      <td>PH56</td>\n      <td>112</td>\n      <td>Ischaemic stroke</td>\n    </tr>\n    <tr>\n      <th>61</th>\n      <td>I63.9</td>\n      <td>Cerebral infarction, unspecified</td>\n      <td>ICD10 codes</td>\n      <td>C839</td>\n      <td>2817</td>\n      <td>Ischaemic stroke - Secondary care - Diagnoses</td>\n      <td>PH56</td>\n      <td>112</td>\n      <td>Ischaemic stroke</td>\n    </tr>\n    <tr>\n      <th>62</th>\n      <td>I69.3</td>\n      <td>Sequelae of cerebral infarction</td>\n      <td>ICD10 codes</td>\n      <td>C839</td>\n      <td>2817</td>\n      <td>Ischaemic stroke - Secondary care - Diagnoses</td>\n      <td>PH56</td>\n      <td>112</td>\n      <td>Ischaemic stroke</td>\n    </tr>\n  </tbody>\n</table>\n</div>"
     },
     "execution_count": 4,
     "metadata": {},
     "output_type": "execute_result"
    }
   ],
   "source": [
    "hdruk_pd[hdruk_pd[\"coding_system\"] == \"ICD10 codes\"]"
   ],
   "metadata": {
    "collapsed": false
   }
  },
  {
   "cell_type": "code",
   "execution_count": 6,
   "outputs": [
    {
     "data": {
      "text/plain": "array(['Read codes v2', 'Med codes', 'ICD10 codes'], dtype=object)"
     },
     "execution_count": 6,
     "metadata": {},
     "output_type": "execute_result"
    }
   ],
   "source": [
    "# unique coding systems\n",
    "hdruk_pd['coding_system'].unique()"
   ],
   "metadata": {
    "collapsed": false
   }
  },
  {
   "cell_type": "code",
   "execution_count": 11,
   "outputs": [],
   "source": [
    "# input parameters\n",
    "tre_pheno_name = 'stroke_IS'"
   ],
   "metadata": {
    "collapsed": false
   }
  },
  {
   "cell_type": "code",
   "execution_count": 22,
   "outputs": [],
   "source": [
    "# change into tre format\n",
    "\n",
    "tre_pd = hdruk_pd.copy()\n",
    "\n",
    "tre_pd['name'] = tre_pheno_name\n",
    "tre_pd['terminology'] = tre_pd['coding_system']\n",
    "\n",
    "replace_terminology = {\n",
    "    \"ICD10 codes\": \"ICD10\",\n",
    "    \"SNOMED CT codes\": \"SNOMED\",\n",
    "    \"Read codes_v2\": \"READ\"\n",
    "}\n",
    "tre_pd[\"terminology\"] = tre_pd[\"terminology\"].map(replace_terminology)\n"
   ],
   "metadata": {
    "collapsed": false
   }
  },
  {
   "cell_type": "code",
   "execution_count": 23,
   "outputs": [],
   "source": [
    "tre_pd = tre_pd[tre_pd['terminology'].isin([\"ICD10\", \"SNOMED\"])]"
   ],
   "metadata": {
    "collapsed": false
   }
  },
  {
   "cell_type": "code",
   "execution_count": 24,
   "outputs": [
    {
     "data": {
      "text/plain": "     code                                        description coding_system  \\\n54  I63.0  Cerebral infarction due to thrombosis of prece...   ICD10 codes   \n55  I63.1  Cerebral infarction due to embolism of precere...   ICD10 codes   \n56  I63.2  Cerebral infarction due to unspecified occlusi...   ICD10 codes   \n57  I63.3  Cerebral infarction due to thrombosis of cereb...   ICD10 codes   \n58  I63.4  Cerebral infarction due to embolism of cerebra...   ICD10 codes   \n59  I63.5  Cerebral infarction due to unspecified occlusi...   ICD10 codes   \n60  I63.8                          Other cerebral infarction   ICD10 codes   \n61  I63.9                   Cerebral infarction, unspecified   ICD10 codes   \n62  I69.3                    Sequelae of cerebral infarction   ICD10 codes   \n\n   concept_id  concept_version_id  \\\n54       C839                2817   \n55       C839                2817   \n56       C839                2817   \n57       C839                2817   \n58       C839                2817   \n59       C839                2817   \n60       C839                2817   \n61       C839                2817   \n62       C839                2817   \n\n                                     concept_name phenotype_id  \\\n54  Ischaemic stroke - Secondary care - Diagnoses         PH56   \n55  Ischaemic stroke - Secondary care - Diagnoses         PH56   \n56  Ischaemic stroke - Secondary care - Diagnoses         PH56   \n57  Ischaemic stroke - Secondary care - Diagnoses         PH56   \n58  Ischaemic stroke - Secondary care - Diagnoses         PH56   \n59  Ischaemic stroke - Secondary care - Diagnoses         PH56   \n60  Ischaemic stroke - Secondary care - Diagnoses         PH56   \n61  Ischaemic stroke - Secondary care - Diagnoses         PH56   \n62  Ischaemic stroke - Secondary care - Diagnoses         PH56   \n\n    phenotype_version_id    phenotype_name       name terminology  \n54                   112  Ischaemic stroke  stroke_IS       ICD10  \n55                   112  Ischaemic stroke  stroke_IS       ICD10  \n56                   112  Ischaemic stroke  stroke_IS       ICD10  \n57                   112  Ischaemic stroke  stroke_IS       ICD10  \n58                   112  Ischaemic stroke  stroke_IS       ICD10  \n59                   112  Ischaemic stroke  stroke_IS       ICD10  \n60                   112  Ischaemic stroke  stroke_IS       ICD10  \n61                   112  Ischaemic stroke  stroke_IS       ICD10  \n62                   112  Ischaemic stroke  stroke_IS       ICD10  ",
      "text/html": "<div>\n<style scoped>\n    .dataframe tbody tr th:only-of-type {\n        vertical-align: middle;\n    }\n\n    .dataframe tbody tr th {\n        vertical-align: top;\n    }\n\n    .dataframe thead th {\n        text-align: right;\n    }\n</style>\n<table border=\"1\" class=\"dataframe\">\n  <thead>\n    <tr style=\"text-align: right;\">\n      <th></th>\n      <th>code</th>\n      <th>description</th>\n      <th>coding_system</th>\n      <th>concept_id</th>\n      <th>concept_version_id</th>\n      <th>concept_name</th>\n      <th>phenotype_id</th>\n      <th>phenotype_version_id</th>\n      <th>phenotype_name</th>\n      <th>name</th>\n      <th>terminology</th>\n    </tr>\n  </thead>\n  <tbody>\n    <tr>\n      <th>54</th>\n      <td>I63.0</td>\n      <td>Cerebral infarction due to thrombosis of prece...</td>\n      <td>ICD10 codes</td>\n      <td>C839</td>\n      <td>2817</td>\n      <td>Ischaemic stroke - Secondary care - Diagnoses</td>\n      <td>PH56</td>\n      <td>112</td>\n      <td>Ischaemic stroke</td>\n      <td>stroke_IS</td>\n      <td>ICD10</td>\n    </tr>\n    <tr>\n      <th>55</th>\n      <td>I63.1</td>\n      <td>Cerebral infarction due to embolism of precere...</td>\n      <td>ICD10 codes</td>\n      <td>C839</td>\n      <td>2817</td>\n      <td>Ischaemic stroke - Secondary care - Diagnoses</td>\n      <td>PH56</td>\n      <td>112</td>\n      <td>Ischaemic stroke</td>\n      <td>stroke_IS</td>\n      <td>ICD10</td>\n    </tr>\n    <tr>\n      <th>56</th>\n      <td>I63.2</td>\n      <td>Cerebral infarction due to unspecified occlusi...</td>\n      <td>ICD10 codes</td>\n      <td>C839</td>\n      <td>2817</td>\n      <td>Ischaemic stroke - Secondary care - Diagnoses</td>\n      <td>PH56</td>\n      <td>112</td>\n      <td>Ischaemic stroke</td>\n      <td>stroke_IS</td>\n      <td>ICD10</td>\n    </tr>\n    <tr>\n      <th>57</th>\n      <td>I63.3</td>\n      <td>Cerebral infarction due to thrombosis of cereb...</td>\n      <td>ICD10 codes</td>\n      <td>C839</td>\n      <td>2817</td>\n      <td>Ischaemic stroke - Secondary care - Diagnoses</td>\n      <td>PH56</td>\n      <td>112</td>\n      <td>Ischaemic stroke</td>\n      <td>stroke_IS</td>\n      <td>ICD10</td>\n    </tr>\n    <tr>\n      <th>58</th>\n      <td>I63.4</td>\n      <td>Cerebral infarction due to embolism of cerebra...</td>\n      <td>ICD10 codes</td>\n      <td>C839</td>\n      <td>2817</td>\n      <td>Ischaemic stroke - Secondary care - Diagnoses</td>\n      <td>PH56</td>\n      <td>112</td>\n      <td>Ischaemic stroke</td>\n      <td>stroke_IS</td>\n      <td>ICD10</td>\n    </tr>\n    <tr>\n      <th>59</th>\n      <td>I63.5</td>\n      <td>Cerebral infarction due to unspecified occlusi...</td>\n      <td>ICD10 codes</td>\n      <td>C839</td>\n      <td>2817</td>\n      <td>Ischaemic stroke - Secondary care - Diagnoses</td>\n      <td>PH56</td>\n      <td>112</td>\n      <td>Ischaemic stroke</td>\n      <td>stroke_IS</td>\n      <td>ICD10</td>\n    </tr>\n    <tr>\n      <th>60</th>\n      <td>I63.8</td>\n      <td>Other cerebral infarction</td>\n      <td>ICD10 codes</td>\n      <td>C839</td>\n      <td>2817</td>\n      <td>Ischaemic stroke - Secondary care - Diagnoses</td>\n      <td>PH56</td>\n      <td>112</td>\n      <td>Ischaemic stroke</td>\n      <td>stroke_IS</td>\n      <td>ICD10</td>\n    </tr>\n    <tr>\n      <th>61</th>\n      <td>I63.9</td>\n      <td>Cerebral infarction, unspecified</td>\n      <td>ICD10 codes</td>\n      <td>C839</td>\n      <td>2817</td>\n      <td>Ischaemic stroke - Secondary care - Diagnoses</td>\n      <td>PH56</td>\n      <td>112</td>\n      <td>Ischaemic stroke</td>\n      <td>stroke_IS</td>\n      <td>ICD10</td>\n    </tr>\n    <tr>\n      <th>62</th>\n      <td>I69.3</td>\n      <td>Sequelae of cerebral infarction</td>\n      <td>ICD10 codes</td>\n      <td>C839</td>\n      <td>2817</td>\n      <td>Ischaemic stroke - Secondary care - Diagnoses</td>\n      <td>PH56</td>\n      <td>112</td>\n      <td>Ischaemic stroke</td>\n      <td>stroke_IS</td>\n      <td>ICD10</td>\n    </tr>\n  </tbody>\n</table>\n</div>"
     },
     "execution_count": 24,
     "metadata": {},
     "output_type": "execute_result"
    }
   ],
   "source": [
    "tre_pd"
   ],
   "metadata": {
    "collapsed": false
   }
  },
  {
   "cell_type": "code",
   "execution_count": 25,
   "outputs": [
    {
     "data": {
      "text/plain": "Index(['code', 'description', 'coding_system', 'concept_id',\n       'concept_version_id', 'concept_name', 'phenotype_id',\n       'phenotype_version_id', 'phenotype_name', 'name', 'terminology'],\n      dtype='object')"
     },
     "execution_count": 25,
     "metadata": {},
     "output_type": "execute_result"
    }
   ],
   "source": [
    "tre_pd.columns"
   ],
   "metadata": {
    "collapsed": false
   }
  },
  {
   "cell_type": "code",
   "execution_count": 30,
   "outputs": [],
   "source": [
    "out_pd = pd.DataFrame()\n",
    "out_pd['name'] = tre_pd['name']\n",
    "out_pd['terminology'] = tre_pd['terminology']\n",
    "out_pd['code'] = tre_pd['code']\n",
    "out_pd['description'] = tre_pd['description']\n",
    "out_pd['code_type'] = 1\n",
    "out_pd['RecordDate'] = \"20190520\""
   ],
   "metadata": {
    "collapsed": false
   }
  },
  {
   "cell_type": "code",
   "execution_count": 31,
   "outputs": [
    {
     "data": {
      "text/plain": "         name terminology   code  \\\n54  stroke_IS       ICD10  I63.0   \n55  stroke_IS       ICD10  I63.1   \n56  stroke_IS       ICD10  I63.2   \n57  stroke_IS       ICD10  I63.3   \n58  stroke_IS       ICD10  I63.4   \n59  stroke_IS       ICD10  I63.5   \n60  stroke_IS       ICD10  I63.8   \n61  stroke_IS       ICD10  I63.9   \n62  stroke_IS       ICD10  I69.3   \n\n                                          description  code_type RecordDate  \n54  Cerebral infarction due to thrombosis of prece...          1   20190520  \n55  Cerebral infarction due to embolism of precere...          1   20190520  \n56  Cerebral infarction due to unspecified occlusi...          1   20190520  \n57  Cerebral infarction due to thrombosis of cereb...          1   20190520  \n58  Cerebral infarction due to embolism of cerebra...          1   20190520  \n59  Cerebral infarction due to unspecified occlusi...          1   20190520  \n60                          Other cerebral infarction          1   20190520  \n61                   Cerebral infarction, unspecified          1   20190520  \n62                    Sequelae of cerebral infarction          1   20190520  ",
      "text/html": "<div>\n<style scoped>\n    .dataframe tbody tr th:only-of-type {\n        vertical-align: middle;\n    }\n\n    .dataframe tbody tr th {\n        vertical-align: top;\n    }\n\n    .dataframe thead th {\n        text-align: right;\n    }\n</style>\n<table border=\"1\" class=\"dataframe\">\n  <thead>\n    <tr style=\"text-align: right;\">\n      <th></th>\n      <th>name</th>\n      <th>terminology</th>\n      <th>code</th>\n      <th>description</th>\n      <th>code_type</th>\n      <th>RecordDate</th>\n    </tr>\n  </thead>\n  <tbody>\n    <tr>\n      <th>54</th>\n      <td>stroke_IS</td>\n      <td>ICD10</td>\n      <td>I63.0</td>\n      <td>Cerebral infarction due to thrombosis of prece...</td>\n      <td>1</td>\n      <td>20190520</td>\n    </tr>\n    <tr>\n      <th>55</th>\n      <td>stroke_IS</td>\n      <td>ICD10</td>\n      <td>I63.1</td>\n      <td>Cerebral infarction due to embolism of precere...</td>\n      <td>1</td>\n      <td>20190520</td>\n    </tr>\n    <tr>\n      <th>56</th>\n      <td>stroke_IS</td>\n      <td>ICD10</td>\n      <td>I63.2</td>\n      <td>Cerebral infarction due to unspecified occlusi...</td>\n      <td>1</td>\n      <td>20190520</td>\n    </tr>\n    <tr>\n      <th>57</th>\n      <td>stroke_IS</td>\n      <td>ICD10</td>\n      <td>I63.3</td>\n      <td>Cerebral infarction due to thrombosis of cereb...</td>\n      <td>1</td>\n      <td>20190520</td>\n    </tr>\n    <tr>\n      <th>58</th>\n      <td>stroke_IS</td>\n      <td>ICD10</td>\n      <td>I63.4</td>\n      <td>Cerebral infarction due to embolism of cerebra...</td>\n      <td>1</td>\n      <td>20190520</td>\n    </tr>\n    <tr>\n      <th>59</th>\n      <td>stroke_IS</td>\n      <td>ICD10</td>\n      <td>I63.5</td>\n      <td>Cerebral infarction due to unspecified occlusi...</td>\n      <td>1</td>\n      <td>20190520</td>\n    </tr>\n    <tr>\n      <th>60</th>\n      <td>stroke_IS</td>\n      <td>ICD10</td>\n      <td>I63.8</td>\n      <td>Other cerebral infarction</td>\n      <td>1</td>\n      <td>20190520</td>\n    </tr>\n    <tr>\n      <th>61</th>\n      <td>stroke_IS</td>\n      <td>ICD10</td>\n      <td>I63.9</td>\n      <td>Cerebral infarction, unspecified</td>\n      <td>1</td>\n      <td>20190520</td>\n    </tr>\n    <tr>\n      <th>62</th>\n      <td>stroke_IS</td>\n      <td>ICD10</td>\n      <td>I69.3</td>\n      <td>Sequelae of cerebral infarction</td>\n      <td>1</td>\n      <td>20190520</td>\n    </tr>\n  </tbody>\n</table>\n</div>"
     },
     "execution_count": 31,
     "metadata": {},
     "output_type": "execute_result"
    }
   ],
   "source": [
    "out_pd"
   ],
   "metadata": {
    "collapsed": false
   }
  },
  {
   "cell_type": "code",
   "execution_count": null,
   "outputs": [],
   "source": [],
   "metadata": {
    "collapsed": false
   }
  }
 ],
 "metadata": {
  "kernelspec": {
   "display_name": "Python 3",
   "language": "python",
   "name": "python3"
  },
  "language_info": {
   "codemirror_mode": {
    "name": "ipython",
    "version": 2
   },
   "file_extension": ".py",
   "mimetype": "text/x-python",
   "name": "python",
   "nbconvert_exporter": "python",
   "pygments_lexer": "ipython2",
   "version": "2.7.6"
  }
 },
 "nbformat": 4,
 "nbformat_minor": 0
}
